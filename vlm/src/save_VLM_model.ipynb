{
 "cells": [
  {
   "cell_type": "code",
   "execution_count": 1,
   "id": "0958500d-9d87-4c1c-82c8-6ab32a3a450a",
   "metadata": {
    "tags": []
   },
   "outputs": [
    {
     "data": {
      "text/plain": [
       "('./VLM_model/tokenizer_config.json',\n",
       " './VLM_model/special_tokens_map.json',\n",
       " './VLM_model/vocab.json',\n",
       " './VLM_model/merges.txt',\n",
       " './VLM_model/added_tokens.json',\n",
       " './VLM_model/tokenizer.json')"
      ]
     },
     "execution_count": 1,
     "metadata": {},
     "output_type": "execute_result"
    }
   ],
   "source": [
    "from transformers import AutoModel, AutoTokenizer\n",
    "\n",
    "# Specify the model checkpoint\n",
    "checkpoint = \"google/owlvit-base-patch32\"\n",
    "\n",
    "# Load the model and tokenizer from Hugging Face\n",
    "model = AutoModel.from_pretrained(checkpoint)\n",
    "tokenizer = AutoTokenizer.from_pretrained(checkpoint)\n",
    "\n",
    "# Save the model and tokenizer to a local directory\n",
    "model.save_pretrained('./VLM_model')\n",
    "tokenizer.save_pretrained('./VLM_model')\n"
   ]
  },
  {
   "cell_type": "code",
   "execution_count": null,
   "id": "f6c55dc7-8c27-438c-ad56-9c2e311f79fc",
   "metadata": {},
   "outputs": [],
   "source": []
  }
 ],
 "metadata": {
  "environment": {
   "kernel": "conda-base-py",
   "name": "workbench-notebooks.m120",
   "type": "gcloud",
   "uri": "us-docker.pkg.dev/deeplearning-platform-release/gcr.io/workbench-notebooks:m120"
  },
  "kernelspec": {
   "display_name": "Python 3 (ipykernel)",
   "language": "python",
   "name": "conda-base-py"
  },
  "language_info": {
   "codemirror_mode": {
    "name": "ipython",
    "version": 3
   },
   "file_extension": ".py",
   "mimetype": "text/x-python",
   "name": "python",
   "nbconvert_exporter": "python",
   "pygments_lexer": "ipython3",
   "version": "3.10.14"
  }
 },
 "nbformat": 4,
 "nbformat_minor": 5
}
